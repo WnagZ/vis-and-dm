{
 "cells": [
  {
   "cell_type": "code",
   "execution_count": 9,
   "outputs": [
    {
     "name": "stdout",
     "output_type": "stream",
     "text": [
      "        Unnamed: 0         ID Customer_ID      Month             Name   Age  \\\n",
      "0                0   \\n0x160a   CUS_0xd40  September    Aaron Maashoh  23.0   \n",
      "1                1   \\n0x160b   CUS_0xd40    October    Aaron Maashoh  24.0   \n",
      "2                2   \\n0x160c   CUS_0xd40   November    Aaron Maashoh  24.0   \n",
      "3                3   \\n0x160d   CUS_0xd40   December    Aaron Maashoh   NaN   \n",
      "4                4   \\n0x1616  CUS_0x21b1  September  Rick Rothackerj  28.0   \n",
      "...            ...        ...         ...        ...              ...   ...   \n",
      "149996      149996  \\n0x25fea  CUS_0x942c        May            Nicks  25.0   \n",
      "149997      149997  \\n0x25feb  CUS_0x942c       June            Nicks  25.0   \n",
      "149998      149998  \\n0x25fec  CUS_0x942c       July            Nicks  25.0   \n",
      "149999      149999  \\n0x25fed  CUS_0x942c     August            Nicks  25.0   \n",
      "150000      150000         \\n         NaN        NaN              NaN   NaN   \n",
      "\n",
      "       Occupation  Annual_Income  Monthly_Inhand_Salary  Num_Bank_Accounts  \\\n",
      "0       Scientist       19114.12            1824.843333                3.0   \n",
      "1       Scientist       19114.12            1824.843333                3.0   \n",
      "2       Scientist       19114.12            1824.843333                3.0   \n",
      "3       Scientist       19114.12                    NaN                3.0   \n",
      "4             NaN       34847.84            3037.986667                2.0   \n",
      "...           ...            ...                    ...                ...   \n",
      "149996   Mechanic       39628.99            3359.415833                4.0   \n",
      "149997   Mechanic       39628.99            3359.415833                4.0   \n",
      "149998   Mechanic       39628.99            3359.415833                4.0   \n",
      "149999   Mechanic       39628.99            3359.415833                4.0   \n",
      "150000        NaN            NaN                    NaN                NaN   \n",
      "\n",
      "        ...  Credit_Mix  Outstanding_Debt  Credit_Utilization_Ratio  \\\n",
      "0       ...        Good            809.98                 35.030402   \n",
      "1       ...        Good            809.98                 33.053114   \n",
      "2       ...        Good            809.98                 33.811894   \n",
      "3       ...        Good            809.98                 32.430559   \n",
      "4       ...        Good            605.03                 25.926822   \n",
      "...     ...         ...               ...                       ...   \n",
      "149996  ...         NaN            502.38                 40.565631   \n",
      "149997  ...        Good            502.38                 41.255522   \n",
      "149998  ...        Good            502.38                 33.638208   \n",
      "149999  ...        Good            502.38                 34.192463   \n",
      "150000  ...         NaN               NaN                       NaN   \n",
      "\n",
      "        Credit_History_Age  Payment_of_Min_Amount  Total_EMI_per_month  \\\n",
      "0        22Yearsand9Months                     No            49.574949   \n",
      "1       22Yearsand10Months                     No            49.574949   \n",
      "2                      NaN                     No            49.574949   \n",
      "3        23Yearsand0Months                     No            49.574949   \n",
      "4        27Yearsand3Months                     No            18.816215   \n",
      "...                    ...                    ...                  ...   \n",
      "149996   31Yearsand7Months                     No            35.104023   \n",
      "149997   31Yearsand8Months                     No            35.104023   \n",
      "149998   31Yearsand9Months                     No            35.104023   \n",
      "149999  31Yearsand10Months                     No            35.104023   \n",
      "150000                 NaN                    NaN                  NaN   \n",
      "\n",
      "       Amount_invested_monthly                 Payment_Behaviour  \\\n",
      "0                   236.642682    Low_spent_Small_value_payments   \n",
      "1                    21.465380  High_spent_Medium_value_payments   \n",
      "2                   148.233938   Low_spent_Medium_value_payments   \n",
      "3                    39.082511  High_spent_Medium_value_payments   \n",
      "4                    39.684018   High_spent_Large_value_payments   \n",
      "...                        ...                               ...   \n",
      "149996               54.185950  High_spent_Medium_value_payments   \n",
      "149997               24.028477   High_spent_Large_value_payments   \n",
      "149998              251.672582    Low_spent_Large_value_payments   \n",
      "149999              167.163865                               NaN   \n",
      "150000                     NaN                               NaN   \n",
      "\n",
      "       Monthly_Balance  Credit_Score  \n",
      "0           186.266702           NaN  \n",
      "1           361.444004           NaN  \n",
      "2           264.675446           NaN  \n",
      "3           343.826873           NaN  \n",
      "4           485.298434           NaN  \n",
      "...                ...           ...  \n",
      "149996      496.651610          Poor  \n",
      "149997      516.809083          Poor  \n",
      "149998      319.164979      Standard  \n",
      "149999      393.673696          Poor  \n",
      "150000             NaN           NaN  \n",
      "\n",
      "[150001 rows x 28 columns]\n"
     ]
    },
    {
     "name": "stderr",
     "output_type": "stream",
     "text": [
      "C:\\Users\\Wei Xun\\AppData\\Local\\Temp\\ipykernel_14292\\3309926209.py:3: DtypeWarning: Columns (27) have mixed types. Specify dtype option on import or set low_memory=False.\n",
      "  df = pd.read_csv(\"clean_data.csv\")\n"
     ]
    }
   ],
   "source": [
    "import pandas as pd\n",
    "import matplotlib.pyplot as plt\n",
    "df = pd.read_csv(\"clean_data.csv\")\n",
    "print(df)"
   ],
   "metadata": {
    "collapsed": false
   }
  },
  {
   "cell_type": "markdown",
   "source": [
    "num_of_Delayed_Payment"
   ],
   "metadata": {
    "collapsed": false
   }
  },
  {
   "cell_type": "code",
   "execution_count": 10,
   "outputs": [
    {
     "data": {
      "text/plain": "count    139500.000000\nmean         30.934301\nstd         224.530918\nmin           0.000000\n25%           9.000000\n50%          14.000000\n75%          18.000000\nmax        4399.000000\nName: Num_of_Delayed_Payment, dtype: float64"
     },
     "execution_count": 10,
     "metadata": {},
     "output_type": "execute_result"
    }
   ],
   "source": [
    "df['Num_of_Delayed_Payment'].describe()"
   ],
   "metadata": {
    "collapsed": false
   }
  },
  {
   "cell_type": "code",
   "execution_count": 11,
   "outputs": [
    {
     "name": "stderr",
     "output_type": "stream",
     "text": [
      "C:\\Users\\Wei Xun\\AppData\\Local\\Temp\\ipykernel_14292\\800859967.py:5: SettingWithCopyWarning: \n",
      "A value is trying to be set on a copy of a slice from a DataFrame\n",
      "\n",
      "See the caveats in the documentation: https://pandas.pydata.org/pandas-docs/stable/user_guide/indexing.html#returning-a-view-versus-a-copy\n",
      "  df['Num_of_Delayed_Payment'][x] = int(upper)\n"
     ]
    },
    {
     "data": {
      "text/plain": "count    150001.000000\nmean         17.080199\nstd          39.402941\nmin           0.000000\n25%           9.000000\n50%          15.000000\n75%          19.000000\nmax         479.000000\nName: Num_of_Delayed_Payment, dtype: float64"
     },
     "execution_count": 11,
     "metadata": {},
     "output_type": "execute_result"
    }
   ],
   "source": [
    "upper = df['Num_of_Delayed_Payment'].mean()+(2*df['Num_of_Delayed_Payment'].std())\n",
    "\n",
    "for x in range(len(df['Num_of_Delayed_Payment'])):\n",
    "    if df['Num_of_Delayed_Payment'][x] > upper:\n",
    "        df['Num_of_Delayed_Payment'][x] = int(upper)\n",
    "\n",
    "df['Num_of_Delayed_Payment'].fillna(df['Num_of_Delayed_Payment'].mode()[0], inplace=True)\n",
    "df['Num_of_Delayed_Payment'].describe()"
   ],
   "metadata": {
    "collapsed": false
   }
  },
  {
   "cell_type": "markdown",
   "source": [
    "I'm using 2 SD (95% of data), and using the upper boundary to replace the ones out of bounds, and the max (479) is the number of delayed payments over a few years so its understandable too"
   ],
   "metadata": {
    "collapsed": false
   }
  },
  {
   "cell_type": "markdown",
   "source": [],
   "metadata": {
    "collapsed": false
   }
  },
  {
   "cell_type": "markdown",
   "source": [
    "Num_Credit_Inquiries (when a creditor checks your credit report, could hurt your credit score if its a hard inquiry, where you apply for a credit card, mortgage, auto loan, or credit increase, and it won't hurt your credit score if its a soft inquiry, where you apply for insurance, or request your credit report)"
   ],
   "metadata": {
    "collapsed": false
   }
  },
  {
   "cell_type": "code",
   "execution_count": 12,
   "outputs": [
    {
     "data": {
      "text/plain": "count    147000.000000\nmean         28.529014\nstd         194.456058\nmin           0.000000\n25%           3.000000\n50%           6.000000\n75%           9.000000\nmax        2597.000000\nName: Num_Credit_Inquiries, dtype: float64"
     },
     "execution_count": 12,
     "metadata": {},
     "output_type": "execute_result"
    }
   ],
   "source": [
    "df['Num_Credit_Inquiries'].describe()"
   ],
   "metadata": {
    "collapsed": false
   }
  },
  {
   "cell_type": "code",
   "execution_count": 13,
   "outputs": [
    {
     "name": "stderr",
     "output_type": "stream",
     "text": [
      "C:\\Users\\Wei Xun\\AppData\\Local\\Temp\\ipykernel_14292\\1158527260.py:5: SettingWithCopyWarning: \n",
      "A value is trying to be set on a copy of a slice from a DataFrame\n",
      "\n",
      "See the caveats in the documentation: https://pandas.pydata.org/pandas-docs/stable/user_guide/indexing.html#returning-a-view-versus-a-copy\n",
      "  df['Num_Credit_Inquiries'][x] = int(upper)\n"
     ]
    },
    {
     "data": {
      "text/plain": "count    150001.000000\nmean         12.578616\nstd          50.054023\nmin           0.000000\n25%           3.000000\n50%           6.000000\n75%           9.000000\nmax         417.000000\nName: Num_Credit_Inquiries, dtype: float64"
     },
     "execution_count": 13,
     "metadata": {},
     "output_type": "execute_result"
    }
   ],
   "source": [
    "upper = df['Num_Credit_Inquiries'].mean()+(2*df['Num_Credit_Inquiries'].std())\n",
    "\n",
    "for x in range(len(df['Num_Credit_Inquiries'])):\n",
    "    if df['Num_Credit_Inquiries'][x] > upper:\n",
    "        df['Num_Credit_Inquiries'][x] = int(upper)\n",
    "\n",
    "df['Num_Credit_Inquiries'].fillna(df['Num_Credit_Inquiries'].mode()[0], inplace=True)\n",
    "df['Num_Credit_Inquiries'].describe()"
   ],
   "metadata": {
    "collapsed": false
   }
  },
  {
   "cell_type": "markdown",
   "source": [
    "I'm using 2 SD (95% of data), and using the upper boundary to replace the ones out of bounds, which is kind of understandable when someone has made 417 inquiries over like a few years, and they could do this by viewing their own credit too"
   ],
   "metadata": {
    "collapsed": false
   }
  },
  {
   "cell_type": "markdown",
   "source": [],
   "metadata": {
    "collapsed": false
   }
  },
  {
   "cell_type": "markdown",
   "source": [
    "Outstanding_Debt (debt that is yet to be paid)"
   ],
   "metadata": {
    "collapsed": false
   }
  },
  {
   "cell_type": "code",
   "execution_count": 14,
   "outputs": [
    {
     "data": {
      "text/plain": "count    150000.000000\nmean       1426.220376\nstd        1155.127101\nmin           0.230000\n25%         566.072500\n50%        1166.155000\n75%        1945.962500\nmax        4998.070000\nName: Outstanding_Debt, dtype: float64"
     },
     "execution_count": 14,
     "metadata": {},
     "output_type": "execute_result"
    }
   ],
   "source": [
    "df['Outstanding_Debt'].describe()"
   ],
   "metadata": {
    "collapsed": false
   }
  },
  {
   "cell_type": "markdown",
   "source": [
    "I don't think this needs cleaning"
   ],
   "metadata": {
    "collapsed": false
   }
  },
  {
   "cell_type": "markdown",
   "source": [],
   "metadata": {
    "collapsed": false
   }
  },
  {
   "cell_type": "markdown",
   "source": [
    "Credit_Utilization_Ratio (the percentage of a borrower’s total available credit that is currently being used)"
   ],
   "metadata": {
    "collapsed": false
   }
  },
  {
   "cell_type": "code",
   "execution_count": 15,
   "outputs": [
    {
     "data": {
      "text/plain": "count    150000.000000\nmean         32.283309\nstd           5.113315\nmin          20.000000\n25%          28.054731\n50%          32.297058\n75%          36.487954\nmax          50.000000\nName: Credit_Utilization_Ratio, dtype: float64"
     },
     "execution_count": 15,
     "metadata": {},
     "output_type": "execute_result"
    }
   ],
   "source": [
    "df['Credit_Utilization_Ratio'].describe()"
   ],
   "metadata": {
    "collapsed": false
   }
  },
  {
   "cell_type": "markdown",
   "source": [
    "I don’t think this needs cleaning, but keep in mind its percentage and not 0-1 ratio"
   ],
   "metadata": {
    "collapsed": false
   }
  }
 ],
 "metadata": {
  "kernelspec": {
   "display_name": "Python 3",
   "language": "python",
   "name": "python3"
  },
  "language_info": {
   "codemirror_mode": {
    "name": "ipython",
    "version": 2
   },
   "file_extension": ".py",
   "mimetype": "text/x-python",
   "name": "python",
   "nbconvert_exporter": "python",
   "pygments_lexer": "ipython2",
   "version": "2.7.6"
  }
 },
 "nbformat": 4,
 "nbformat_minor": 0
}
